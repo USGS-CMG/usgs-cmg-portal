{
 "cells": [
  {
   "cell_type": "code",
   "execution_count": 1,
   "metadata": {
    "collapsed": true
   },
   "outputs": [],
   "source": [
    "import yaml"
   ]
  },
  {
   "cell_type": "code",
   "execution_count": 2,
   "metadata": {
    "collapsed": false
   },
   "outputs": [],
   "source": [
    "stream = open(\"c:/users/rsignell/downloads/meta.yaml\", 'r')\n",
    "a = yaml.load(stream)"
   ]
  },
  {
   "cell_type": "code",
   "execution_count": 3,
   "metadata": {
    "collapsed": false
   },
   "outputs": [
    {
     "data": {
      "text/plain": [
       "{'acknowledgements': ['USGS-CMGP', 'NSF'],\n",
       " 'contributor': {'email': 'rsignell@usgs.gov',\n",
       "  'name': 'Rich Signell',\n",
       "  'role': 'advisor',\n",
       "  'url': 'http://profile.usgs.gov/rsignell'},\n",
       " 'creator': {'email': 'nganju@usgs.gov',\n",
       "  'name': 'Neil Ganju',\n",
       "  'url': 'http://water.usgs.gov/fluxes'},\n",
       " 'id': 'USGS_COAWST_MVCO_CBLAST_Ripples_SWAN_40m',\n",
       " 'license': 'The data may be used and redistributed for free but is not intended for legal use, since it may contain inaccuracies. Neither the data Contributor, nor the United States Government, nor any of their employees or contractors, makes any warranty, express or implied, including warranties of merchantability and fitness for a particular purpose, or assumes any legal liability for the accuracy, completeness, or usefulness, of this information.',\n",
       " 'publisher': {'email': 'tkalra@usgs.gov',\n",
       "  'name': 'Tarandeep Kalra',\n",
       "  'url': 'http://www.usgs.gov'},\n",
       " 'references': ['http://www.whoi.edu/science/AOPE/dept/CBLASTmain.html',\n",
       "  'http://water.usgs.gov/fluxes/mvco.html',\n",
       "  'doi:10.1029/2011JC007035'],\n",
       " 'summary': 'Simulation of hydrodynamics and bottom stress south of Marthas Vineyard, MA using the COAWST modeling system.  These results are from the 40m inner nest of a four-level nested simulation.',\n",
       " 'title': 'USGS-CMG-COAWST Model: CBLAST2007 Ripples with SWAN-40m res'}"
      ]
     },
     "execution_count": 3,
     "metadata": {},
     "output_type": "execute_result"
    }
   ],
   "source": [
    "a['dataset']"
   ]
  },
  {
   "cell_type": "code",
   "execution_count": 4,
   "metadata": {
    "collapsed": false
   },
   "outputs": [
    {
     "data": {
      "text/plain": [
       "['ubar', 'vbar']"
      ]
     },
     "execution_count": 4,
     "metadata": {},
     "output_type": "execute_result"
    }
   ],
   "source": [
    "a['variables']['exclude']"
   ]
  },
  {
   "cell_type": "code",
   "execution_count": 5,
   "metadata": {
    "collapsed": false
   },
   "outputs": [
    {
     "data": {
      "text/plain": [
       "{'pattern': '.*/ocean_his_[0-9]{4}\\\\.nc$', 'time_var': 'ocean_time'}"
      ]
     },
     "execution_count": 5,
     "metadata": {},
     "output_type": "execute_result"
    }
   ],
   "source": [
    "a['aggregation']"
   ]
  },
  {
   "cell_type": "code",
   "execution_count": 6,
   "metadata": {
    "collapsed": false
   },
   "outputs": [
    {
     "name": "stdout",
     "output_type": "stream",
     "text": [
      ".*/ocean_his_[0-9]{4}\\.nc$\n"
     ]
    }
   ],
   "source": [
    "print a['aggregation']['pattern']"
   ]
  },
  {
   "cell_type": "code",
   "execution_count": 7,
   "metadata": {
    "collapsed": false
   },
   "outputs": [
    {
     "name": "stdout",
     "output_type": "stream",
     "text": [
      "['http://www.whoi.edu/science/AOPE/dept/CBLASTmain.html', 'http://water.usgs.gov/fluxes/mvco.html', 'doi:10.1029/2011JC007035']\n"
     ]
    }
   ],
   "source": [
    "print a['dataset']['references']"
   ]
  },
  {
   "cell_type": "code",
   "execution_count": 8,
   "metadata": {
    "collapsed": false
   },
   "outputs": [
    {
     "name": "stdout",
     "output_type": "stream",
     "text": [
      "{'url': 'http://profile.usgs.gov/rsignell', 'role': 'advisor', 'email': 'rsignell@usgs.gov', 'name': 'Rich Signell'}\n"
     ]
    }
   ],
   "source": [
    "print a['dataset']['contributor']"
   ]
  },
  {
   "cell_type": "code",
   "execution_count": null,
   "metadata": {
    "collapsed": true
   },
   "outputs": [],
   "source": []
  }
 ],
 "metadata": {
  "kernelspec": {
   "display_name": "Python 2",
   "language": "python",
   "name": "python2"
  },
  "language_info": {
   "codemirror_mode": {
    "name": "ipython",
    "version": 2
   },
   "file_extension": ".py",
   "mimetype": "text/x-python",
   "name": "python",
   "nbconvert_exporter": "python",
   "pygments_lexer": "ipython2",
   "version": "2.7.9"
  }
 },
 "nbformat": 4,
 "nbformat_minor": 0
}
